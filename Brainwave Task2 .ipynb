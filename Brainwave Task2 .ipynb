{
 "cells": [
  {
   "cell_type": "code",
   "execution_count": null,
   "id": "b6fd6a64",
   "metadata": {},
   "outputs": [
    {
     "name": "stdout",
     "output_type": "stream",
     "text": [
      "Password Strength Checker\n",
      "Enter 'exit' to quit.\n",
      "Enter a password to check: 123456789\n",
      "Password Strength: Weak: Consider making your password longer and adding uppercase letters, digits, and special characters.\n",
      "\n",
      "Enter a password to check: helloworld\n",
      "Password Strength: Moderate: Your password is decent but could be improved by adding more unique elements.\n",
      "\n",
      "Enter a password to check: HAI@123\n",
      "Password Strength: Moderate: Your password is decent but could be improved by adding more unique elements.\n",
      "\n",
      "Enter a password to check: Helloworld@12\n",
      "Password Strength: Strong: Your password is strong.\n",
      "\n"
     ]
    }
   ],
   "source": [
    "import re\n",
    "\n",
    "def check_password_strength(password: str) -> str:\n",
    "    \"\"\"\n",
    "    Assess the strength of a given password.\n",
    "\n",
    "    Parameters:\n",
    "        password (str): The password to be analyzed.\n",
    "\n",
    "    Returns:\n",
    "        str: Feedback on password strength (e.g., Weak, Moderate, Strong).\n",
    "    \"\"\"\n",
    "    # Initialize strength criteria\n",
    "    length_criteria = len(password) >= 8\n",
    "    uppercase_criteria = bool(re.search(r'[A-Z]', password))\n",
    "    lowercase_criteria = bool(re.search(r'[a-z]', password))\n",
    "    digit_criteria = bool(re.search(r'\\d', password))\n",
    "    special_char_criteria = bool(re.search(r'[!@#$%^&*(),.?\":{}|<>]', password))\n",
    "\n",
    "    # Check for common patterns or weaknesses\n",
    "    common_passwords = [\"123456\", \"password\", \"123456789\", \"qwerty\", \"abc123\", \"111111\"]\n",
    "    unique_criteria = password not in common_passwords\n",
    "\n",
    "    # Count how many criteria are met\n",
    "    criteria_met = sum([\n",
    "        length_criteria,\n",
    "        uppercase_criteria,\n",
    "        lowercase_criteria,\n",
    "        digit_criteria,\n",
    "        special_char_criteria,\n",
    "        unique_criteria\n",
    "    ])\n",
    "\n",
    "    # Provide feedback based on criteria met\n",
    "    if criteria_met <= 2:\n",
    "        return \"Weak: Consider making your password longer and adding uppercase letters, digits, and special characters.\"\n",
    "    elif criteria_met <= 4:\n",
    "        return \"Moderate: Your password is decent but could be improved by adding more unique elements.\"\n",
    "    else:\n",
    "        return \"Strong: Your password is strong.\"\n",
    "\n",
    "if __name__ == \"__main__\":\n",
    "    print(\"Password Strength Checker\")\n",
    "    print(\"Enter 'exit' to quit.\")\n",
    "\n",
    "    while True:\n",
    "        password = input(\"Enter a password to check: \")\n",
    "        if password.lower() == \"exit\":\n",
    "            break\n",
    "        feedback = check_password_strength(password)\n",
    "        print(f\"Password Strength: {feedback}\\n\")\n"
   ]
  },
  {
   "cell_type": "code",
   "execution_count": null,
   "id": "38d11407",
   "metadata": {},
   "outputs": [],
   "source": []
  }
 ],
 "metadata": {
  "kernelspec": {
   "display_name": "Python 3 (ipykernel)",
   "language": "python",
   "name": "python3"
  },
  "language_info": {
   "codemirror_mode": {
    "name": "ipython",
    "version": 3
   },
   "file_extension": ".py",
   "mimetype": "text/x-python",
   "name": "python",
   "nbconvert_exporter": "python",
   "pygments_lexer": "ipython3",
   "version": "3.10.9"
  }
 },
 "nbformat": 4,
 "nbformat_minor": 5
}
